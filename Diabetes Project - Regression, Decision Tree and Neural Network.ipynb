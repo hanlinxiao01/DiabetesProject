{
 "cells": [
  {
   "cell_type": "markdown",
   "metadata": {},
   "source": [
    "# Diabetes Project Using Regression, Decision Tree and Neural Network\n",
    "### Author: Xiao, Hanlin @ NTU MSBA July 2020"
   ]
  },
  {
   "cell_type": "code",
   "execution_count": 27,
   "metadata": {},
   "outputs": [],
   "source": [
    "# data processing\n",
    "import numpy as np\n",
    "import pandas as pd\n",
    "\n",
    "# visualization\n",
    "import seaborn as sns\n",
    "import matplotlib.pyplot as plt\n",
    "plt.style.use('seaborn')\n",
    "\n",
    "# regression and decision tree\n",
    "import sklearn\n",
    "from sklearn.model_selection import train_test_split\n",
    "from sklearn.tree import DecisionTreeClassifier\n",
    "from sklearn.linear_model import LogisticRegression\n",
    "from sklearn import preprocessing\n",
    "from sklearn.metrics import confusion_matrix\n",
    "\n",
    "# neural network\n",
    "from keras import backend as K\n",
    "from keras.models import Input, Model\n",
    "from keras.layers import Dense, Dropout\n",
    "from keras.models import Model, Sequential\n",
    "\n",
    "# ignore the warning\n",
    "import warnings\n",
    "warnings.filterwarnings(\"ignore\")\n",
    "\n",
    "import random\n",
    "random.seed(233)"
   ]
  },
  {
   "cell_type": "markdown",
   "metadata": {},
   "source": [
    "## 1. Data Cleaning"
   ]
  },
  {
   "cell_type": "markdown",
   "metadata": {},
   "source": [
    "Now standardize the data - Age, Diastolic blood pressure"
   ]
  },
  {
   "cell_type": "code",
   "execution_count": 37,
   "metadata": {},
   "outputs": [
    {
     "data": {
      "text/plain": [
       "Number of times pregnant                     int64\n",
       "Plasma glucose concentration a 2 hours       int64\n",
       "Diastolic blood pressure                     int64\n",
       "Triceps skin fold thickness                  int64\n",
       "2-Hour serum insulin                         int64\n",
       "Body mass index                            float64\n",
       "Diabetes pedigree function                 float64\n",
       "Age                                          int64\n",
       "Class                                        uint8\n",
       "dtype: object"
      ]
     },
     "execution_count": 37,
     "metadata": {},
     "output_type": "execute_result"
    }
   ],
   "source": [
    "df_copy.dtypes"
   ]
  },
  {
   "cell_type": "code",
   "execution_count": 2,
   "metadata": {},
   "outputs": [
    {
     "data": {
      "text/html": [
       "<div>\n",
       "<style scoped>\n",
       "    .dataframe tbody tr th:only-of-type {\n",
       "        vertical-align: middle;\n",
       "    }\n",
       "\n",
       "    .dataframe tbody tr th {\n",
       "        vertical-align: top;\n",
       "    }\n",
       "\n",
       "    .dataframe thead th {\n",
       "        text-align: right;\n",
       "    }\n",
       "</style>\n",
       "<table border=\"1\" class=\"dataframe\">\n",
       "  <thead>\n",
       "    <tr style=\"text-align: right;\">\n",
       "      <th></th>\n",
       "      <th>Number of times pregnant</th>\n",
       "      <th>Plasma glucose concentration a 2 hours</th>\n",
       "      <th>Diastolic blood pressure</th>\n",
       "      <th>Triceps skin fold thickness</th>\n",
       "      <th>2-Hour serum insulin</th>\n",
       "      <th>Body mass index</th>\n",
       "      <th>Diabetes pedigree function</th>\n",
       "      <th>Age</th>\n",
       "      <th>Class</th>\n",
       "    </tr>\n",
       "  </thead>\n",
       "  <tbody>\n",
       "    <tr>\n",
       "      <th>0</th>\n",
       "      <td>6</td>\n",
       "      <td>148</td>\n",
       "      <td>72</td>\n",
       "      <td>35</td>\n",
       "      <td>0</td>\n",
       "      <td>33.6</td>\n",
       "      <td>0.627</td>\n",
       "      <td>30</td>\n",
       "      <td>1</td>\n",
       "    </tr>\n",
       "    <tr>\n",
       "      <th>1</th>\n",
       "      <td>1</td>\n",
       "      <td>85</td>\n",
       "      <td>66</td>\n",
       "      <td>29</td>\n",
       "      <td>0</td>\n",
       "      <td>26.6</td>\n",
       "      <td>0.351</td>\n",
       "      <td>45</td>\n",
       "      <td>0</td>\n",
       "    </tr>\n",
       "    <tr>\n",
       "      <th>2</th>\n",
       "      <td>8</td>\n",
       "      <td>183</td>\n",
       "      <td>64</td>\n",
       "      <td>0</td>\n",
       "      <td>0</td>\n",
       "      <td>23.3</td>\n",
       "      <td>0.672</td>\n",
       "      <td>32</td>\n",
       "      <td>1</td>\n",
       "    </tr>\n",
       "    <tr>\n",
       "      <th>3</th>\n",
       "      <td>1</td>\n",
       "      <td>89</td>\n",
       "      <td>58</td>\n",
       "      <td>23</td>\n",
       "      <td>94</td>\n",
       "      <td>28.1</td>\n",
       "      <td>0.167</td>\n",
       "      <td>21</td>\n",
       "      <td>0</td>\n",
       "    </tr>\n",
       "    <tr>\n",
       "      <th>4</th>\n",
       "      <td>0</td>\n",
       "      <td>137</td>\n",
       "      <td>40</td>\n",
       "      <td>35</td>\n",
       "      <td>168</td>\n",
       "      <td>43.1</td>\n",
       "      <td>2.288</td>\n",
       "      <td>33</td>\n",
       "      <td>1</td>\n",
       "    </tr>\n",
       "  </tbody>\n",
       "</table>\n",
       "</div>"
      ],
      "text/plain": [
       "   Number of times pregnant  Plasma glucose concentration a 2 hours   \\\n",
       "0                         6                                      148   \n",
       "1                         1                                       85   \n",
       "2                         8                                      183   \n",
       "3                         1                                       89   \n",
       "4                         0                                      137   \n",
       "\n",
       "  Diastolic blood pressure   Triceps skin fold thickness   \\\n",
       "0                        72                            35   \n",
       "1                        66                            29   \n",
       "2                        64                             0   \n",
       "3                        58                            23   \n",
       "4                        40                            35   \n",
       "\n",
       "   2-Hour serum insulin   Body mass index   Diabetes pedigree function Age  \\\n",
       "0                      0              33.6                       0.627  30   \n",
       "1                      0              26.6                       0.351  45   \n",
       "2                      0              23.3                       0.672  32   \n",
       "3                     94              28.1                       0.167  21   \n",
       "4                    168              43.1                       2.288  33   \n",
       "\n",
       "   Class  \n",
       "0      1  \n",
       "1      0  \n",
       "2      1  \n",
       "3      0  \n",
       "4      1  "
      ]
     },
     "execution_count": 2,
     "metadata": {},
     "output_type": "execute_result"
    }
   ],
   "source": [
    "df = pd.read_csv('/Users/cirean/Desktop/NTU/Diabetes_Project/Diabetes.csv')\n",
    "df_copy = df.copy()\n",
    "df_copy['Class'] = pd.get_dummies(df['Class'])['tested_positive']\n",
    "df_copy.head()"
   ]
  },
  {
   "cell_type": "code",
   "execution_count": 4,
   "metadata": {},
   "outputs": [
    {
     "name": "stdout",
     "output_type": "stream",
     "text": [
      "['22yo', 'twenty']\n"
     ]
    }
   ],
   "source": [
    "errors = []\n",
    "for i in df_copy['Age']:\n",
    "    try:\n",
    "        i = int(i)\n",
    "    except:\n",
    "        errors.append(i)\n",
    "print(errors)"
   ]
  },
  {
   "cell_type": "markdown",
   "metadata": {},
   "source": [
    "standardize 'Age'"
   ]
  },
  {
   "cell_type": "code",
   "execution_count": 5,
   "metadata": {},
   "outputs": [],
   "source": [
    "df_copy['Age'] = df_copy['Age'].apply(lambda x: x.replace('22yo', '22').replace('twenty', '20')).astype(int)"
   ]
  },
  {
   "cell_type": "code",
   "execution_count": 6,
   "metadata": {},
   "outputs": [
    {
     "name": "stdout",
     "output_type": "stream",
     "text": [
      "['bin']\n"
     ]
    }
   ],
   "source": [
    "errors = []\n",
    "for i in df_copy['Diastolic blood pressure ']:\n",
    "    try:\n",
    "        i = int(i)\n",
    "    except:\n",
    "        errors.append(i)\n",
    "print(errors)"
   ]
  },
  {
   "cell_type": "markdown",
   "metadata": {},
   "source": [
    "standardize Diastolic blood pressure"
   ]
  },
  {
   "cell_type": "code",
   "execution_count": 7,
   "metadata": {},
   "outputs": [],
   "source": [
    "df_copy['Diastolic blood pressure '] = df['Diastolic blood pressure '].apply(lambda x: x.replace('bin', '0')).astype(int)"
   ]
  },
  {
   "cell_type": "markdown",
   "metadata": {},
   "source": [
    "Now remove the outliers - Age, Diastolic blood pressure "
   ]
  },
  {
   "cell_type": "code",
   "execution_count": 8,
   "metadata": {},
   "outputs": [
    {
     "data": {
      "text/plain": [
       "4       2\n",
       "9       1\n",
       "20      1\n",
       "21     63\n",
       "22     72\n",
       "23     38\n",
       "24     46\n",
       "25     48\n",
       "26     32\n",
       "27     32\n",
       "28     35\n",
       "29     29\n",
       "30     22\n",
       "31     23\n",
       "32     16\n",
       "33     17\n",
       "34     14\n",
       "35     10\n",
       "36     16\n",
       "37     19\n",
       "38     16\n",
       "39     12\n",
       "40     13\n",
       "41     22\n",
       "42     18\n",
       "43     13\n",
       "44      8\n",
       "45     16\n",
       "46     13\n",
       "47      6\n",
       "48      5\n",
       "49      5\n",
       "50      7\n",
       "51      8\n",
       "52      9\n",
       "53      5\n",
       "54      6\n",
       "55      4\n",
       "56      3\n",
       "57      5\n",
       "58      7\n",
       "59      3\n",
       "60      5\n",
       "61      2\n",
       "62      4\n",
       "63      4\n",
       "64      1\n",
       "65      3\n",
       "66      4\n",
       "67      3\n",
       "68      1\n",
       "69      2\n",
       "70      1\n",
       "72      1\n",
       "81      1\n",
       "135     1\n",
       "Name: Age, dtype: int64"
      ]
     },
     "execution_count": 8,
     "metadata": {},
     "output_type": "execute_result"
    }
   ],
   "source": [
    "df_copy['Age'].value_counts().sort_index()"
   ]
  },
  {
   "cell_type": "markdown",
   "metadata": {},
   "source": [
    "to remove outliers 4, 9, 135"
   ]
  },
  {
   "cell_type": "code",
   "execution_count": 9,
   "metadata": {},
   "outputs": [],
   "source": [
    "df_copy = df_copy[~df_copy.Age.isin([4,9,135])]"
   ]
  },
  {
   "cell_type": "code",
   "execution_count": 10,
   "metadata": {},
   "outputs": [
    {
     "data": {
      "text/plain": [
       "0.0      36\n",
       "38.0      1\n",
       "40.0      1\n",
       "44.0      4\n",
       "46.0      2\n",
       "48.0      5\n",
       "50.0     13\n",
       "52.0     11\n",
       "54.0     11\n",
       "55.0      2\n",
       "56.0     12\n",
       "58.0     22\n",
       "60.0     37\n",
       "61.0      1\n",
       "62.0     34\n",
       "64.0     43\n",
       "65.0      7\n",
       "66.0     29\n",
       "67.0      1\n",
       "68.0     44\n",
       "70.0     57\n",
       "72.0     44\n",
       "74.0     52\n",
       "75.0      9\n",
       "76.0     39\n",
       "78.0     45\n",
       "80.0     39\n",
       "82.0     29\n",
       "84.0     23\n",
       "85.0      6\n",
       "86.0     21\n",
       "88.0     25\n",
       "90.0     22\n",
       "92.0      8\n",
       "94.0      6\n",
       "95.0      1\n",
       "96.0      4\n",
       "98.0      3\n",
       "100.0     3\n",
       "102.0     1\n",
       "104.0     2\n",
       "106.0     3\n",
       "108.0     2\n",
       "110.0     3\n",
       "114.0     1\n",
       "122.0     1\n",
       "321.0     1\n",
       "432.0     1\n",
       "623.0     1\n",
       "730.0     1\n",
       "Name: Diastolic blood pressure , dtype: int64"
      ]
     },
     "execution_count": 10,
     "metadata": {},
     "output_type": "execute_result"
    }
   ],
   "source": [
    "df_copy['Diastolic blood pressure '].astype(float).value_counts().sort_index()"
   ]
  },
  {
   "cell_type": "markdown",
   "metadata": {},
   "source": [
    "based on domain knowledge, Diastolic blood pressure is unlikely higher than 150 and lower than 30, so remove the outliers"
   ]
  },
  {
   "cell_type": "code",
   "execution_count": 11,
   "metadata": {},
   "outputs": [],
   "source": [
    "df_copy = df_copy.drop(df_copy[(df_copy['Diastolic blood pressure ']>150) | (df_copy['Diastolic blood pressure ']<30)].index)"
   ]
  },
  {
   "cell_type": "code",
   "execution_count": 12,
   "metadata": {},
   "outputs": [
    {
     "data": {
      "text/plain": [
       "38      1\n",
       "40      1\n",
       "44      4\n",
       "46      2\n",
       "48      5\n",
       "50     13\n",
       "52     11\n",
       "54     11\n",
       "55      2\n",
       "56     12\n",
       "58     22\n",
       "60     37\n",
       "61      1\n",
       "62     34\n",
       "64     43\n",
       "65      7\n",
       "66     29\n",
       "67      1\n",
       "68     44\n",
       "70     57\n",
       "72     44\n",
       "74     52\n",
       "75      9\n",
       "76     39\n",
       "78     45\n",
       "80     39\n",
       "82     29\n",
       "84     23\n",
       "85      6\n",
       "86     21\n",
       "88     25\n",
       "90     22\n",
       "92      8\n",
       "94      6\n",
       "95      1\n",
       "96      4\n",
       "98      3\n",
       "100     3\n",
       "102     1\n",
       "104     2\n",
       "106     3\n",
       "108     2\n",
       "110     3\n",
       "114     1\n",
       "122     1\n",
       "Name: Diastolic blood pressure , dtype: int64"
      ]
     },
     "execution_count": 12,
     "metadata": {},
     "output_type": "execute_result"
    }
   ],
   "source": [
    "df_copy['Diastolic blood pressure '].astype(int).value_counts().sort_index()"
   ]
  },
  {
   "cell_type": "markdown",
   "metadata": {},
   "source": [
    "change bmi=0 observations into bmi_avg"
   ]
  },
  {
   "cell_type": "code",
   "execution_count": 13,
   "metadata": {},
   "outputs": [],
   "source": [
    "bmi_avg = df_copy['Body mass index '][df_copy['Body mass index ']>0].mean()\n",
    "df_copy['Body mass index '] = df_copy['Body mass index '].replace(0,bmi_avg)"
   ]
  },
  {
   "cell_type": "code",
   "execution_count": 14,
   "metadata": {},
   "outputs": [],
   "source": [
    "X = df_copy.drop('Class', axis=1)\n",
    "y = df_copy.iloc[:,-1]\n",
    "X_train, X_test, y_train, y_test = train_test_split(X,y,test_size=0.3)"
   ]
  },
  {
   "cell_type": "code",
   "execution_count": 15,
   "metadata": {},
   "outputs": [],
   "source": [
    "scaler = preprocessing.MinMaxScaler().fit(X_train)\n",
    "scaled_X_train = scaler.transform(X_train)\n",
    "scaled_X_test = scaler.transform(X_test)"
   ]
  },
  {
   "cell_type": "markdown",
   "metadata": {},
   "source": [
    "## 2. Logistic Regression"
   ]
  },
  {
   "cell_type": "code",
   "execution_count": 16,
   "metadata": {},
   "outputs": [],
   "source": [
    "m1 = LogisticRegression()\n",
    "m1.fit(scaled_X_train, y_train)\n",
    "y_pred = m1.predict(scaled_X_test)"
   ]
  },
  {
   "cell_type": "code",
   "execution_count": 17,
   "metadata": {},
   "outputs": [
    {
     "name": "stdout",
     "output_type": "stream",
     "text": [
      "[[1.93464559 4.44553065 0.11054553 0.80752159 0.50758589 2.32225265\n",
      "  1.3272149  1.11119305]] [-5.06032355]\n"
     ]
    }
   ],
   "source": [
    "print(m1.coef_, m1.intercept_)"
   ]
  },
  {
   "cell_type": "code",
   "execution_count": 18,
   "metadata": {},
   "outputs": [
    {
     "name": "stdout",
     "output_type": "stream",
     "text": [
      "Optimization terminated successfully.\n",
      "         Current function value: inf\n",
      "         Iterations 6\n",
      "                           Logit Regression Results                           \n",
      "==============================================================================\n",
      "Dep. Variable:                      y   No. Observations:                  510\n",
      "Model:                          Logit   Df Residuals:                      501\n",
      "Method:                           MLE   Df Model:                            8\n",
      "Date:                Fri, 31 Jul 2020   Pseudo R-squ.:                     inf\n",
      "Time:                        02:10:31   Log-Likelihood:                   -inf\n",
      "converged:                       True   LL-Null:                        0.0000\n",
      "Covariance Type:            nonrobust   LLR p-value:                     1.000\n",
      "==============================================================================\n",
      "                 coef    std err          z      P>|z|      [0.025      0.975]\n",
      "------------------------------------------------------------------------------\n",
      "const         -7.5424      0.711    -10.611      0.000      -8.936      -6.149\n",
      "x1             7.1250      1.894      3.761      0.000       3.412      10.838\n",
      "x2             7.5453      0.947      7.965      0.000       5.689       9.402\n",
      "x3            -0.9132      0.921     -0.991      0.321      -2.719       0.892\n",
      "x4             0.9546      0.857      1.114      0.265      -0.724       2.634\n",
      "x5            -0.1578      0.901     -0.175      0.861      -1.924       1.609\n",
      "x6             3.9301      0.989      3.975      0.000       1.992       5.868\n",
      "x7             2.3227      0.863      2.693      0.007       0.632       4.013\n",
      "x8             0.2710      0.723      0.375      0.708      -1.147       1.689\n",
      "==============================================================================\n"
     ]
    }
   ],
   "source": [
    "import statsmodels.api as sm\n",
    "from scipy import stats\n",
    "import statsmodels.formula.api as smf\n",
    "import statsmodels.api as sm\n",
    "\n",
    "m1_2 = sm.Logit(y_train.to_numpy(),sm.add_constant(scaled_X_train)).fit()\n",
    "print(m1_2.summary())"
   ]
  },
  {
   "cell_type": "code",
   "execution_count": 35,
   "metadata": {},
   "outputs": [
    {
     "name": "stdout",
     "output_type": "stream",
     "text": [
      "The accuracy rate of logistic regression is 0.758\n"
     ]
    }
   ],
   "source": [
    "print('The accuracy rate of logistic regression is {}'.format(round(sum(y_pred==y_test)/len(y_test),3)))"
   ]
  },
  {
   "cell_type": "code",
   "execution_count": 36,
   "metadata": {},
   "outputs": [
    {
     "name": "stdout",
     "output_type": "stream",
     "text": [
      "[[0.60273973 0.05936073]\n",
      " [0.1826484  0.15525114]]\n"
     ]
    }
   ],
   "source": [
    "cm1 = confusion_matrix(y_test, y_pred)\n",
    "cm1 = cm1.astype('float') / cm1.sum()\n",
    "print(cm1)"
   ]
  },
  {
   "cell_type": "markdown",
   "metadata": {},
   "source": [
    "### Pros:\n",
    "    1.The model is easy to train and interpret. The result is a intuitive linear equation\n",
    "    2.Linear regression is prone to over-fitting but it can be easily avoided using some dimensionality reduction techniques, regularization techniques and cross-validation\n",
    "### Cons:\n",
    "    1.In the real world, the data is rarely linearly separable. It assumes that there is a straight-line relationship between the dependent and independent variables, and in this case, straight line is expected to separate the two groups, which seems doubtful\n",
    "    2.Linear regression is very sensitive to outliers. Outliers should be analyzed and removed before applying linear regression to the dataset\n",
    "    3.Multicollinearity should be considered because it assumes that there is no relationship among independent variables"
   ]
  },
  {
   "cell_type": "markdown",
   "metadata": {},
   "source": [
    "## 3. Decision Tree"
   ]
  },
  {
   "cell_type": "code",
   "execution_count": 21,
   "metadata": {},
   "outputs": [],
   "source": [
    "m2 = DecisionTreeClassifier(max_depth=2)\n",
    "m2.fit(scaled_X_train, y_train)\n",
    "y_pred2 = m2.predict(scaled_X_test)"
   ]
  },
  {
   "cell_type": "code",
   "execution_count": 34,
   "metadata": {},
   "outputs": [
    {
     "name": "stdout",
     "output_type": "stream",
     "text": [
      "The accuracy rate of decision tree is 0.721\n"
     ]
    }
   ],
   "source": [
    "print(\"The accuracy rate of decision tree is {}\".format(round(sum(y_pred2==y_test)/len(y_test),3)))"
   ]
  },
  {
   "cell_type": "code",
   "execution_count": 23,
   "metadata": {
    "scrolled": true
   },
   "outputs": [
    {
     "name": "stdout",
     "output_type": "stream",
     "text": [
      "[[0.57534247 0.08675799]\n",
      " [0.19178082 0.14611872]]\n"
     ]
    }
   ],
   "source": [
    "cm2 = confusion_matrix(y_test, y_pred2)\n",
    "cm2 = cm2.astype('float') / cm2.sum()\n",
    "print(cm2)"
   ]
  },
  {
   "cell_type": "markdown",
   "metadata": {},
   "source": [
    "### Pros:\n",
    "    1. A decision tree does not require normalization or scaling and we can directly apply the dataset to model for classification\n",
    "    2. A decision tree model is very intuitive and easy to explain to audience\n",
    "### Cons:\n",
    "    1. For a decision tree sometimes calculation can go far more complex compared to other algorithms. Training a decision tree is not a difficult thing, but the following proning and parameter adjusting matters. On the other hand, more complex decision tree algorithms are worked out and generally we cannot just use one basic tree for work\n",
    "    2. A decision tree cannot predict continuous variables\n",
    "    "
   ]
  },
  {
   "cell_type": "markdown",
   "metadata": {},
   "source": [
    "## 4. Neural Network"
   ]
  },
  {
   "cell_type": "code",
   "execution_count": 28,
   "metadata": {},
   "outputs": [
    {
     "name": "stdout",
     "output_type": "stream",
     "text": [
      "Epoch 1/100\n",
      "16/16 [==============================] - 0s 981us/step - loss: 0.6798 - accuracy: 0.6549\n",
      "Epoch 2/100\n",
      "16/16 [==============================] - 0s 1ms/step - loss: 0.6758 - accuracy: 0.6549\n",
      "Epoch 3/100\n",
      "16/16 [==============================] - 0s 996us/step - loss: 0.6716 - accuracy: 0.6549\n",
      "Epoch 4/100\n",
      "16/16 [==============================] - 0s 1ms/step - loss: 0.6680 - accuracy: 0.6549\n",
      "Epoch 5/100\n",
      "16/16 [==============================] - 0s 1ms/step - loss: 0.6650 - accuracy: 0.6549\n",
      "Epoch 6/100\n",
      "16/16 [==============================] - 0s 1ms/step - loss: 0.6617 - accuracy: 0.6549\n",
      "Epoch 7/100\n",
      "16/16 [==============================] - 0s 1ms/step - loss: 0.6589 - accuracy: 0.6549\n",
      "Epoch 8/100\n",
      "16/16 [==============================] - 0s 984us/step - loss: 0.6566 - accuracy: 0.6549\n",
      "Epoch 9/100\n",
      "16/16 [==============================] - 0s 980us/step - loss: 0.6533 - accuracy: 0.6549\n",
      "Epoch 10/100\n",
      "16/16 [==============================] - 0s 981us/step - loss: 0.6498 - accuracy: 0.6549\n",
      "Epoch 11/100\n",
      "16/16 [==============================] - 0s 1ms/step - loss: 0.6463 - accuracy: 0.6549\n",
      "Epoch 12/100\n",
      "16/16 [==============================] - 0s 1ms/step - loss: 0.6428 - accuracy: 0.6549\n",
      "Epoch 13/100\n",
      "16/16 [==============================] - 0s 1ms/step - loss: 0.6394 - accuracy: 0.6549\n",
      "Epoch 14/100\n",
      "16/16 [==============================] - 0s 979us/step - loss: 0.6361 - accuracy: 0.6549\n",
      "Epoch 15/100\n",
      "16/16 [==============================] - 0s 994us/step - loss: 0.6325 - accuracy: 0.6549\n",
      "Epoch 16/100\n",
      "16/16 [==============================] - 0s 950us/step - loss: 0.6288 - accuracy: 0.6549\n",
      "Epoch 17/100\n",
      "16/16 [==============================] - 0s 1ms/step - loss: 0.6242 - accuracy: 0.6549\n",
      "Epoch 18/100\n",
      "16/16 [==============================] - 0s 997us/step - loss: 0.6198 - accuracy: 0.6549\n",
      "Epoch 19/100\n",
      "16/16 [==============================] - 0s 977us/step - loss: 0.6144 - accuracy: 0.6549\n",
      "Epoch 20/100\n",
      "16/16 [==============================] - 0s 1ms/step - loss: 0.6083 - accuracy: 0.6549\n",
      "Epoch 21/100\n",
      "16/16 [==============================] - 0s 1ms/step - loss: 0.6018 - accuracy: 0.6549\n",
      "Epoch 22/100\n",
      "16/16 [==============================] - 0s 1ms/step - loss: 0.5949 - accuracy: 0.6549\n",
      "Epoch 23/100\n",
      "16/16 [==============================] - 0s 984us/step - loss: 0.5886 - accuracy: 0.6529\n",
      "Epoch 24/100\n",
      "16/16 [==============================] - 0s 991us/step - loss: 0.5814 - accuracy: 0.6667\n",
      "Epoch 25/100\n",
      "16/16 [==============================] - 0s 1ms/step - loss: 0.5740 - accuracy: 0.6784\n",
      "Epoch 26/100\n",
      "16/16 [==============================] - 0s 1ms/step - loss: 0.5667 - accuracy: 0.6863\n",
      "Epoch 27/100\n",
      "16/16 [==============================] - 0s 1ms/step - loss: 0.5596 - accuracy: 0.7137\n",
      "Epoch 28/100\n",
      "16/16 [==============================] - 0s 1ms/step - loss: 0.5526 - accuracy: 0.7118\n",
      "Epoch 29/100\n",
      "16/16 [==============================] - 0s 997us/step - loss: 0.5460 - accuracy: 0.7235\n",
      "Epoch 30/100\n",
      "16/16 [==============================] - 0s 1ms/step - loss: 0.5407 - accuracy: 0.7294\n",
      "Epoch 31/100\n",
      "16/16 [==============================] - 0s 1ms/step - loss: 0.5342 - accuracy: 0.7451\n",
      "Epoch 32/100\n",
      "16/16 [==============================] - 0s 1ms/step - loss: 0.5288 - accuracy: 0.7471\n",
      "Epoch 33/100\n",
      "16/16 [==============================] - 0s 1ms/step - loss: 0.5232 - accuracy: 0.7490\n",
      "Epoch 34/100\n",
      "16/16 [==============================] - 0s 1ms/step - loss: 0.5179 - accuracy: 0.7490\n",
      "Epoch 35/100\n",
      "16/16 [==============================] - 0s 1ms/step - loss: 0.5146 - accuracy: 0.7588\n",
      "Epoch 36/100\n",
      "16/16 [==============================] - 0s 1ms/step - loss: 0.5106 - accuracy: 0.7549\n",
      "Epoch 37/100\n",
      "16/16 [==============================] - 0s 980us/step - loss: 0.5061 - accuracy: 0.7529\n",
      "Epoch 38/100\n",
      "16/16 [==============================] - 0s 983us/step - loss: 0.5032 - accuracy: 0.7608\n",
      "Epoch 39/100\n",
      "16/16 [==============================] - 0s 966us/step - loss: 0.5012 - accuracy: 0.7569\n",
      "Epoch 40/100\n",
      "16/16 [==============================] - 0s 976us/step - loss: 0.5003 - accuracy: 0.7549\n",
      "Epoch 41/100\n",
      "16/16 [==============================] - 0s 946us/step - loss: 0.4958 - accuracy: 0.7588\n",
      "Epoch 42/100\n",
      "16/16 [==============================] - 0s 950us/step - loss: 0.4920 - accuracy: 0.7667\n",
      "Epoch 43/100\n",
      "16/16 [==============================] - 0s 962us/step - loss: 0.4901 - accuracy: 0.7647\n",
      "Epoch 44/100\n",
      "16/16 [==============================] - 0s 970us/step - loss: 0.4880 - accuracy: 0.7667\n",
      "Epoch 45/100\n",
      "16/16 [==============================] - 0s 976us/step - loss: 0.4866 - accuracy: 0.7686\n",
      "Epoch 46/100\n",
      "16/16 [==============================] - 0s 998us/step - loss: 0.4833 - accuracy: 0.7745\n",
      "Epoch 47/100\n",
      "16/16 [==============================] - 0s 962us/step - loss: 0.4823 - accuracy: 0.7725\n",
      "Epoch 48/100\n",
      "16/16 [==============================] - 0s 974us/step - loss: 0.4799 - accuracy: 0.7725\n",
      "Epoch 49/100\n",
      "16/16 [==============================] - 0s 1ms/step - loss: 0.4780 - accuracy: 0.7725\n",
      "Epoch 50/100\n",
      "16/16 [==============================] - 0s 967us/step - loss: 0.4764 - accuracy: 0.7765\n",
      "Epoch 51/100\n",
      "16/16 [==============================] - 0s 966us/step - loss: 0.4745 - accuracy: 0.7765\n",
      "Epoch 52/100\n",
      "16/16 [==============================] - 0s 987us/step - loss: 0.4731 - accuracy: 0.7725\n",
      "Epoch 53/100\n",
      "16/16 [==============================] - 0s 1ms/step - loss: 0.4717 - accuracy: 0.7765\n",
      "Epoch 54/100\n",
      "16/16 [==============================] - 0s 1ms/step - loss: 0.4699 - accuracy: 0.7765\n",
      "Epoch 55/100\n",
      "16/16 [==============================] - 0s 983us/step - loss: 0.4687 - accuracy: 0.7765\n",
      "Epoch 56/100\n",
      "16/16 [==============================] - 0s 1ms/step - loss: 0.4681 - accuracy: 0.7745\n",
      "Epoch 57/100\n",
      "16/16 [==============================] - 0s 1ms/step - loss: 0.4672 - accuracy: 0.7784\n",
      "Epoch 58/100\n",
      "16/16 [==============================] - 0s 1ms/step - loss: 0.4653 - accuracy: 0.7784\n",
      "Epoch 59/100\n",
      "16/16 [==============================] - 0s 1ms/step - loss: 0.4637 - accuracy: 0.7824\n",
      "Epoch 60/100\n",
      "16/16 [==============================] - 0s 1ms/step - loss: 0.4647 - accuracy: 0.7804\n",
      "Epoch 61/100\n",
      "16/16 [==============================] - 0s 1ms/step - loss: 0.4614 - accuracy: 0.7843\n",
      "Epoch 62/100\n",
      "16/16 [==============================] - 0s 1ms/step - loss: 0.4610 - accuracy: 0.7765\n",
      "Epoch 63/100\n",
      "16/16 [==============================] - 0s 1ms/step - loss: 0.4605 - accuracy: 0.7824\n",
      "Epoch 64/100\n",
      "16/16 [==============================] - 0s 1ms/step - loss: 0.4600 - accuracy: 0.7784\n",
      "Epoch 65/100\n",
      "16/16 [==============================] - 0s 1ms/step - loss: 0.4588 - accuracy: 0.7843\n",
      "Epoch 66/100\n",
      "16/16 [==============================] - 0s 1ms/step - loss: 0.4564 - accuracy: 0.7922\n",
      "Epoch 67/100\n",
      "16/16 [==============================] - 0s 1ms/step - loss: 0.4553 - accuracy: 0.7824\n",
      "Epoch 68/100\n",
      "16/16 [==============================] - 0s 993us/step - loss: 0.4546 - accuracy: 0.7902\n",
      "Epoch 69/100\n",
      "16/16 [==============================] - 0s 1ms/step - loss: 0.4558 - accuracy: 0.7843\n",
      "Epoch 70/100\n",
      "16/16 [==============================] - 0s 964us/step - loss: 0.4535 - accuracy: 0.7882\n",
      "Epoch 71/100\n",
      "16/16 [==============================] - 0s 975us/step - loss: 0.4526 - accuracy: 0.7922\n",
      "Epoch 72/100\n",
      "16/16 [==============================] - 0s 1ms/step - loss: 0.4506 - accuracy: 0.7922\n",
      "Epoch 73/100\n",
      "16/16 [==============================] - 0s 995us/step - loss: 0.4503 - accuracy: 0.7902\n",
      "Epoch 74/100\n",
      "16/16 [==============================] - 0s 996us/step - loss: 0.4498 - accuracy: 0.7902\n",
      "Epoch 75/100\n",
      "16/16 [==============================] - 0s 975us/step - loss: 0.4488 - accuracy: 0.7863\n",
      "Epoch 76/100\n",
      "16/16 [==============================] - 0s 971us/step - loss: 0.4492 - accuracy: 0.7922\n",
      "Epoch 77/100\n",
      "16/16 [==============================] - 0s 961us/step - loss: 0.4473 - accuracy: 0.7882\n",
      "Epoch 78/100\n",
      "16/16 [==============================] - 0s 962us/step - loss: 0.4466 - accuracy: 0.7882\n",
      "Epoch 79/100\n",
      "16/16 [==============================] - 0s 970us/step - loss: 0.4471 - accuracy: 0.7882\n",
      "Epoch 80/100\n",
      "16/16 [==============================] - 0s 1ms/step - loss: 0.4441 - accuracy: 0.7922\n",
      "Epoch 81/100\n",
      "16/16 [==============================] - 0s 987us/step - loss: 0.4443 - accuracy: 0.7922\n",
      "Epoch 82/100\n",
      "16/16 [==============================] - 0s 987us/step - loss: 0.4438 - accuracy: 0.7863\n",
      "Epoch 83/100\n",
      "16/16 [==============================] - 0s 1ms/step - loss: 0.4446 - accuracy: 0.7961\n",
      "Epoch 84/100\n",
      "16/16 [==============================] - 0s 1ms/step - loss: 0.4422 - accuracy: 0.7882\n",
      "Epoch 85/100\n",
      "16/16 [==============================] - 0s 1ms/step - loss: 0.4417 - accuracy: 0.7902\n",
      "Epoch 86/100\n",
      "16/16 [==============================] - 0s 1ms/step - loss: 0.4415 - accuracy: 0.7843\n",
      "Epoch 87/100\n",
      "16/16 [==============================] - 0s 1ms/step - loss: 0.4400 - accuracy: 0.7980\n",
      "Epoch 88/100\n",
      "16/16 [==============================] - 0s 1ms/step - loss: 0.4405 - accuracy: 0.7980\n",
      "Epoch 89/100\n",
      "16/16 [==============================] - 0s 1ms/step - loss: 0.4394 - accuracy: 0.7922\n",
      "Epoch 90/100\n",
      "16/16 [==============================] - 0s 1ms/step - loss: 0.4392 - accuracy: 0.7922\n",
      "Epoch 91/100\n",
      "16/16 [==============================] - 0s 968us/step - loss: 0.4375 - accuracy: 0.7980\n",
      "Epoch 92/100\n",
      "16/16 [==============================] - 0s 1ms/step - loss: 0.4368 - accuracy: 0.7961\n",
      "Epoch 93/100\n",
      "16/16 [==============================] - 0s 964us/step - loss: 0.4387 - accuracy: 0.7961\n",
      "Epoch 94/100\n",
      "16/16 [==============================] - 0s 995us/step - loss: 0.4372 - accuracy: 0.7902\n",
      "Epoch 95/100\n",
      "16/16 [==============================] - 0s 1ms/step - loss: 0.4352 - accuracy: 0.7902\n",
      "Epoch 96/100\n",
      "16/16 [==============================] - 0s 922us/step - loss: 0.4363 - accuracy: 0.8000\n",
      "Epoch 97/100\n",
      "16/16 [==============================] - 0s 1ms/step - loss: 0.4346 - accuracy: 0.7961\n",
      "Epoch 98/100\n",
      "16/16 [==============================] - 0s 945us/step - loss: 0.4340 - accuracy: 0.7980\n",
      "Epoch 99/100\n",
      "16/16 [==============================] - 0s 947us/step - loss: 0.4341 - accuracy: 0.7922\n",
      "Epoch 100/100\n",
      "16/16 [==============================] - 0s 1ms/step - loss: 0.4319 - accuracy: 0.8000\n"
     ]
    },
    {
     "data": {
      "text/plain": [
       "<tensorflow.python.keras.callbacks.History at 0x7fc04aea0410>"
      ]
     },
     "execution_count": 28,
     "metadata": {},
     "output_type": "execute_result"
    }
   ],
   "source": [
    "m3 = Sequential()\n",
    "m3.add(Dense(10, input_dim = 8, activation = 'relu'))\n",
    "m3.add(Dense(10, activation = 'relu'))\n",
    "m3.add(Dense(1, activation = 'sigmoid'))\n",
    "m3.compile(loss = 'binary_crossentropy', optimizer = 'adam', metrics= ['accuracy'])\n",
    "m3.fit(scaled_X_train, y_train,epochs = 100, verbose = 1)"
   ]
  },
  {
   "cell_type": "code",
   "execution_count": 33,
   "metadata": {},
   "outputs": [
    {
     "name": "stdout",
     "output_type": "stream",
     "text": [
      "The accuracy rate of neural network is 0.735\n"
     ]
    }
   ],
   "source": [
    "print('The accuracy rate of neural network is {}'.format(round(m3.evaluate(scaled_X_test, y_test, verbose=0)[1],3)))"
   ]
  },
  {
   "cell_type": "code",
   "execution_count": 30,
   "metadata": {},
   "outputs": [
    {
     "name": "stdout",
     "output_type": "stream",
     "text": [
      "[[0.55707763 0.10502283]\n",
      " [0.15981735 0.17808219]]\n"
     ]
    }
   ],
   "source": [
    "y_pred3 = m3.predict(scaled_X_test) > 0.5\n",
    "cm3 = confusion_matrix(y_test, y_pred3.reshape(-1))\n",
    "cm3 = cm3.astype('float') / cm3.sum()\n",
    "print(cm3)"
   ]
  },
  {
   "cell_type": "markdown",
   "metadata": {},
   "source": [
    "### Pros:\n",
    "    1. Neural networks are good to model with nonlinear data with large number of inputs. We can use neural network not only for regression and classification, but also for image recongnition and NLP\n",
    "    2. We can dig into the hidder characteristics of the variables to achieve a more pertinent result\n",
    "    3. Neural networks maybe the ML technique developed most in the past decades. Nowadays, lots of sophisticated and innovative networks are invented and can be applied to various fields\n",
    "### Cons:\n",
    "    1. Neural networks are black boxes, meaning we cannot know much each independent variable is influencing the dependent variables\n",
    "    2. Neural networks take lots of memories when calculating and computationally very expensive (although not in this case)"
   ]
  },
  {
   "cell_type": "markdown",
   "metadata": {},
   "source": [
    "# 5. Summary:\n",
    "    1. Regression achieves the highest score, but I have to say that this result may not be external valid since out dataset is relatively small\n",
    "    2. Decision tree doesn't have a satisfying result because most of our variables are continuous\n",
    "    3. Neural network also achieves high score after hundreds of iterations. Although NN and LR both have a acceptable result, I would expect NN achieve a higher accuracy when prediction when we have more dataset and deal with more sophisticated problems"
   ]
  },
  {
   "cell_type": "code",
   "execution_count": null,
   "metadata": {},
   "outputs": [],
   "source": []
  }
 ],
 "metadata": {
  "kernelspec": {
   "display_name": "Python 3",
   "language": "python",
   "name": "python3"
  },
  "language_info": {
   "codemirror_mode": {
    "name": "ipython",
    "version": 3
   },
   "file_extension": ".py",
   "mimetype": "text/x-python",
   "name": "python",
   "nbconvert_exporter": "python",
   "pygments_lexer": "ipython3",
   "version": "3.7.6"
  }
 },
 "nbformat": 4,
 "nbformat_minor": 4
}
